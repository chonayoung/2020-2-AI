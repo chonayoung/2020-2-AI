{
  "nbformat": 4,
  "nbformat_minor": 0,
  "metadata": {
    "colab": {
      "name": "인공지능 공부.ipynb",
      "provenance": [],
      "collapsed_sections": [],
      "authorship_tag": "ABX9TyPyRguOcHkeqsJUZ3NUhr51",
      "include_colab_link": true
    },
    "kernelspec": {
      "name": "python3",
      "display_name": "Python 3"
    }
  },
  "cells": [
    {
      "cell_type": "markdown",
      "metadata": {
        "id": "view-in-github",
        "colab_type": "text"
      },
      "source": [
        "<a href=\"https://colab.research.google.com/github/chonayoung/2020-2-AI/blob/main/code/%EC%9D%B8%EA%B3%B5%EC%A7%80%EB%8A%A5_%EA%B3%B5%EB%B6%80.ipynb\" target=\"_parent\"><img src=\"https://colab.research.google.com/assets/colab-badge.svg\" alt=\"Open In Colab\"/></a>"
      ]
    },
    {
      "cell_type": "markdown",
      "metadata": {
        "id": "J7409vSZURlZ"
      },
      "source": [
        "1. 회귀 문제: 뉴스 기사 분류\r\n",
        "\r\n",
        "로이터(reuter)뉴스를 46개의 상호 배타적인 토픽을 분류\r\n",
        "* 로이터 뉴스 : 1986년 로이터에서 공개한 짧은 뉴스 기사와 토픽의 집합체\r\n",
        "로이터 뉴스 기사 데이터는 총 11,258개의 뉴스 기사가 46개의 뉴스 카테고리로 분류되는 뉴스 기사 데이터\r\n"
      ]
    },
    {
      "cell_type": "code",
      "metadata": {
        "id": "JzeNLMg9UED5"
      },
      "source": [
        "#1. 텐서 플로우,케라스, 필요라이브러리 임포트\r\n",
        "import tensorflow as tf \r\n",
        "from tensorflow import keras \r\n",
        "\r\n",
        "from keras import models\r\n",
        "from keras import layers\r\n",
        "\r\n",
        "import numpy as np\r\n",
        "import matplotlib.pyplot as plt\r\n",
        "\r\n",
        "from keras.datasets import reuters"
      ],
      "execution_count": null,
      "outputs": []
    },
    {
      "cell_type": "code",
      "metadata": {
        "id": "LqLZxUkcV4Xx"
      },
      "source": [
        "#2. 데이터 탐색 : 리소스를 불러옴, 데이터에서 가장 자주 등장하는 단어 1만 개 로 제한\r\n",
        "# num_words : 이 데이터에서 등장 빈도 순위로 몇 번째에 해당하는 단어까지만 사용할 것인지 조절\r\n",
        "# test_split : 전체 뉴스 기사 데이터 중 테스트용 뉴스 기사로 몇 퍼센트를 사용할 것인지를 의미\r\n",
        "(train_data, train_labels), (test_data, test_labels) = reuters.load_data(num_words=10000)"
      ],
      "execution_count": null,
      "outputs": []
    },
    {
      "cell_type": "code",
      "metadata": {
        "id": "mxSgz9B7Xrrz"
      },
      "source": [
        "#2.1 데이터 선처리\r\n",
        "#레이블을 벡터로 바꾸는 방법은 두 가지\r\n",
        "# 1. 레이블의 리스트를 정수 텐서로 변환하는 것\r\n",
        "def vectorize_sequences(sequences, dimension=10000):\r\n",
        "    results = np.zeros((len(sequences), dimension))\r\n",
        "    for i, sequence in enumerate(sequences):\r\n",
        "        results[i, sequence] = 1.\r\n",
        "    return results\r\n",
        "\r\n",
        "x_train = vectorize_sequences(train_data) # 훈련 데이터 벡터 변환\r\n",
        "x_test = vectorize_sequences(test_data) # 테스트 데이터 벡터 변환"
      ],
      "execution_count": null,
      "outputs": []
    },
    {
      "cell_type": "code",
      "metadata": {
        "id": "q1MDlSJUdnxe"
      },
      "source": [
        "# 2. 원–핫 인코딩을 사용하는 것\r\n",
        "def to_one_hot(labels, dimension=46):\r\n",
        "    results = np.zeros((len(labels), dimension))\r\n",
        "    for i, label in enumerate(labels):\r\n",
        "        results[i, label] = 1.\r\n",
        "    return results\r\n",
        "\r\n",
        "one_hot_train_labels = to_one_hot(train_labels) # 훈련 레이블 벡터 변환\r\n",
        "one_hot_test_labels = to_one_hot(test_labels) # 테스트 레이블 벡터 변환"
      ],
      "execution_count": null,
      "outputs": []
    },
    {
      "cell_type": "code",
      "metadata": {
        "id": "uYkTHiFtd4J-"
      },
      "source": [
        "# 원-핫 인코딩 쉽게 케라스 이용\r\n",
        "from keras.utils.np_utils import to_categorical\r\n",
        "\r\n",
        "one_hot_train_labels = to_categorical(train_labels)\r\n",
        "one_hot_test_labels = to_categorical(test_labels)"
      ],
      "execution_count": null,
      "outputs": []
    },
    {
      "cell_type": "code",
      "metadata": {
        "colab": {
          "base_uri": "https://localhost:8080/"
        },
        "id": "PI5gajL9ZLlj",
        "outputId": "4e7347a4-73f0-40d9-85a8-b59c77375f63"
      },
      "source": [
        "#3 모델 구성 (CNN 모델 구성)\r\n",
        "model = models.Sequential()\r\n",
        "model.add(layers.Dense(64, activation='relu', input_shape=(10000,)))\r\n",
        "model.add(layers.Dense(64, activation='relu'))\r\n",
        "model.add(layers.Dense(46, activation='softmax'))\r\n",
        "\r\n",
        "model.summary()"
      ],
      "execution_count": null,
      "outputs": [
        {
          "output_type": "stream",
          "text": [
            "Model: \"sequential_2\"\n",
            "_________________________________________________________________\n",
            "Layer (type)                 Output Shape              Param #   \n",
            "=================================================================\n",
            "dense_7 (Dense)              (None, 64)                640064    \n",
            "_________________________________________________________________\n",
            "dense_8 (Dense)              (None, 64)                4160      \n",
            "_________________________________________________________________\n",
            "dense_9 (Dense)              (None, 46)                2990      \n",
            "=================================================================\n",
            "Total params: 647,214\n",
            "Trainable params: 647,214\n",
            "Non-trainable params: 0\n",
            "_________________________________________________________________\n"
          ],
          "name": "stdout"
        }
      ]
    },
    {
      "cell_type": "markdown",
      "metadata": {
        "id": "mCtF_Wq4kILg"
      },
      "source": [
        "10000차원 텐서를 주입하기 때문에 input_shape를 (10000,)으로 설정\r\n",
        "\r\n",
        "만약 데이터셋의 형태가 (samples, d1, d2, ...) 이라면 samples를 제외한 (d1, d2, ...)를 input_shape로 설정\r\n",
        "\r\n",
        " 활성화(activation) 함수는 relu를 사용, 46개의 토픽으로 다중 분류하는 것이므로 softmax를 마지막 활성화 함수로 설정, output은 46으로 설정.\r\n",
        " \r\n",
        "그러면 softmax의 46개 output 중 가장 큰 값이 예측 값이 되게 된다\r\n",
        "\r\n",
        "모델 구성 할 때 중요한 점\r\n",
        ": 최종 출력이 46으로 크기 때문에 앞의 layer의 출력 크기는 그보다 충분히 커야함!\r\n",
        "\r\n",
        "이유 : 출력을 작게 하면, 데이터의 특징이 손실되어 제대로된 정보결과를 얻지 못할 수 있기 때문에 (정보병목)\r\n"
      ]
    },
    {
      "cell_type": "code",
      "metadata": {
        "id": "O6UydoRhZiHS"
      },
      "source": [
        "#3.1 컴파일\r\n",
        "# 손실함수 : categorical_crossentropy (두 확률 분포 사이의 거리를 측정)\r\n",
        "model.compile(optimizer='rmsprop',\r\n",
        "              loss='categorical_crossentropy',\r\n",
        "              metrics=['accuracy'])"
      ],
      "execution_count": null,
      "outputs": []
    },
    {
      "cell_type": "code",
      "metadata": {
        "colab": {
          "base_uri": "https://localhost:8080/"
        },
        "id": "WXLBPt92aEsu",
        "outputId": "7d13494a-63ac-4d18-c019-ea4ce6d3c591"
      },
      "source": [
        "#4. 모델 훈련\r\n",
        "# 훈련 데이터에서 1,000개의 샘플을 따로 떼어서 검증 세트로 사용\r\n",
        "x_val = x_train[:1000]\r\n",
        "partial_x_train = x_train[1000:]\r\n",
        "\r\n",
        "y_val = one_hot_train_labels[:1000]\r\n",
        "partial_y_train = one_hot_train_labels[1000:]\r\n",
        "\r\n",
        "history = model.fit(partial_x_train,\r\n",
        "                    partial_y_train,\r\n",
        "                    epochs=20,\r\n",
        "                    batch_size=512,\r\n",
        "                    validation_data=(x_val, y_val))\r\n",
        "\r\n",
        "model.evaluate(x_test, one_hot_test_labels)"
      ],
      "execution_count": null,
      "outputs": [
        {
          "output_type": "stream",
          "text": [
            "Epoch 1/20\n",
            "16/16 [==============================] - 1s 42ms/step - loss: 0.2461 - accuracy: 0.9442 - val_loss: 0.9142 - val_accuracy: 0.8100\n",
            "Epoch 2/20\n",
            "16/16 [==============================] - 1s 37ms/step - loss: 0.2123 - accuracy: 0.9479 - val_loss: 0.9350 - val_accuracy: 0.8140\n",
            "Epoch 3/20\n",
            "16/16 [==============================] - 1s 38ms/step - loss: 0.1867 - accuracy: 0.9515 - val_loss: 0.9523 - val_accuracy: 0.8110\n",
            "Epoch 4/20\n",
            "16/16 [==============================] - 1s 37ms/step - loss: 0.1683 - accuracy: 0.9526 - val_loss: 0.9597 - val_accuracy: 0.8090\n",
            "Epoch 5/20\n",
            "16/16 [==============================] - 1s 38ms/step - loss: 0.1523 - accuracy: 0.9554 - val_loss: 0.9724 - val_accuracy: 0.8170\n",
            "Epoch 6/20\n",
            "16/16 [==============================] - 1s 37ms/step - loss: 0.1425 - accuracy: 0.9548 - val_loss: 0.9884 - val_accuracy: 0.8210\n",
            "Epoch 7/20\n",
            "16/16 [==============================] - 1s 37ms/step - loss: 0.1369 - accuracy: 0.9557 - val_loss: 1.0978 - val_accuracy: 0.7870\n",
            "Epoch 8/20\n",
            "16/16 [==============================] - 1s 38ms/step - loss: 0.1233 - accuracy: 0.9574 - val_loss: 1.0172 - val_accuracy: 0.8110\n",
            "Epoch 9/20\n",
            "16/16 [==============================] - 1s 38ms/step - loss: 0.1230 - accuracy: 0.9562 - val_loss: 1.0337 - val_accuracy: 0.8140\n",
            "Epoch 10/20\n",
            "16/16 [==============================] - 1s 39ms/step - loss: 0.1160 - accuracy: 0.9580 - val_loss: 1.0879 - val_accuracy: 0.8030\n",
            "Epoch 11/20\n",
            "16/16 [==============================] - 1s 38ms/step - loss: 0.1138 - accuracy: 0.9585 - val_loss: 1.0861 - val_accuracy: 0.7960\n",
            "Epoch 12/20\n",
            "16/16 [==============================] - 1s 42ms/step - loss: 0.1088 - accuracy: 0.9590 - val_loss: 1.1469 - val_accuracy: 0.7960\n",
            "Epoch 13/20\n",
            "16/16 [==============================] - 1s 38ms/step - loss: 0.1095 - accuracy: 0.9560 - val_loss: 1.1412 - val_accuracy: 0.8020\n",
            "Epoch 14/20\n",
            "16/16 [==============================] - 1s 37ms/step - loss: 0.1046 - accuracy: 0.9583 - val_loss: 1.1981 - val_accuracy: 0.7900\n",
            "Epoch 15/20\n",
            "16/16 [==============================] - 1s 37ms/step - loss: 0.1080 - accuracy: 0.9590 - val_loss: 1.1048 - val_accuracy: 0.8080\n",
            "Epoch 16/20\n",
            "16/16 [==============================] - 1s 38ms/step - loss: 0.1016 - accuracy: 0.9588 - val_loss: 1.1321 - val_accuracy: 0.8030\n",
            "Epoch 17/20\n",
            "16/16 [==============================] - 1s 38ms/step - loss: 0.1044 - accuracy: 0.9570 - val_loss: 1.1543 - val_accuracy: 0.8010\n",
            "Epoch 18/20\n",
            "16/16 [==============================] - 1s 39ms/step - loss: 0.0969 - accuracy: 0.9585 - val_loss: 1.1495 - val_accuracy: 0.8060\n",
            "Epoch 19/20\n",
            "16/16 [==============================] - 1s 37ms/step - loss: 0.1006 - accuracy: 0.9562 - val_loss: 1.2022 - val_accuracy: 0.7930\n",
            "Epoch 20/20\n",
            "16/16 [==============================] - 1s 36ms/step - loss: 0.0988 - accuracy: 0.9564 - val_loss: 1.2186 - val_accuracy: 0.7920\n",
            "71/71 [==============================] - 0s 2ms/step - loss: 1.3899 - accuracy: 0.7778\n"
          ],
          "name": "stdout"
        },
        {
          "output_type": "execute_result",
          "data": {
            "text/plain": [
              "[1.38988196849823, 0.777827262878418]"
            ]
          },
          "metadata": {
            "tags": []
          },
          "execution_count": 74
        }
      ]
    },
    {
      "cell_type": "markdown",
      "metadata": {
        "id": "O1pw0YYHlLM4"
      },
      "source": [
        "훈련데이터에 대한 정확도는 약 96.1%\r\n",
        "\r\n",
        "검증 데이터에 대한 정확도는 약 78.9%\r\n",
        "\r\n",
        "테스트 데이터에 대한 정확도는 77.6%\r\n",
        "\r\n",
        "훈련 데이터에 대한 정확도는 높은데 다른 데이터에 대해서는 정확도가 높지 못 하다. 그 이유는 바로 학습 모델이 훈련 데이터에 overfitting(과적합) 되었기 때문"
      ]
    },
    {
      "cell_type": "code",
      "metadata": {
        "colab": {
          "base_uri": "https://localhost:8080/",
          "height": 295
        },
        "id": "2wvz67nTe3Qu",
        "outputId": "cb09e114-f6e8-44d7-ddcc-e2e3da2cdfcc"
      },
      "source": [
        "#4.1 손실확인\r\n",
        "loss = history.history['loss']\r\n",
        "val_loss = history.history['val_loss']\r\n",
        "\r\n",
        "epochs = range(1, len(loss) + 1)\r\n",
        "\r\n",
        "plt.plot(epochs, loss, 'bo', label='Training loss')\r\n",
        "plt.plot(epochs, val_loss, 'b', label='Validation loss')\r\n",
        "plt.title('Training and validation loss')\r\n",
        "plt.xlabel('Epochs')\r\n",
        "plt.ylabel('Loss')\r\n",
        "plt.legend()\r\n",
        "\r\n",
        "plt.show()"
      ],
      "execution_count": null,
      "outputs": [
        {
          "output_type": "display_data",
          "data": {
            "image/png": "[encoded data removed]",
            "text/plain": [
              "<Figure size 432x288 with 1 Axes>"
            ]
          },
          "metadata": {
            "tags": [],
            "needs_background": "light"
          }
        }
      ]
    },
    {
      "cell_type": "code",
      "metadata": {
        "colab": {
          "base_uri": "https://localhost:8080/",
          "height": 295
        },
        "id": "AuO9FhOffI9G",
        "outputId": "1a7717f1-4a43-4bfe-ca4a-a0afff13b830"
      },
      "source": [
        "#4.2 정확도 확인\r\n",
        "plt.clf() #그래프를 초기화합니다.\r\n",
        "\r\n",
        "acc = history.history['accuracy']\r\n",
        "val_acc = history.history['val_accuracy']\r\n",
        "\r\n",
        "plt.plot(epochs, acc, 'bo', label='Training acc')\r\n",
        "plt.plot(epochs, val_acc, 'b', label='Validation acc')\r\n",
        "plt.title('Training and validation accuracy')\r\n",
        "plt.xlabel('Epochs')\r\n",
        "plt.ylabel('Accuracy')\r\n",
        "plt.legend()\r\n",
        "\r\n",
        "plt.show()"
      ],
      "execution_count": null,
      "outputs": [
        {
          "output_type": "display_data",
          "data": {
            "image/png": "[encoded data removed]",
            "text/plain": [
              "<Figure size 432x288 with 1 Axes>"
            ]
          },
          "metadata": {
            "tags": [],
            "needs_background": "light"
          }
        }
      ]
    },
    {
      "cell_type": "markdown",
      "metadata": {
        "id": "Bc7hEM5QgJZX"
      },
      "source": [
        "이 모델은 아홉 번째 에포크 이후에 과대적합이 시작됨을 알 수 있다.\r\n",
        "-> 아홉 번의 에포크로 새로운 모델을 훈련"
      ]
    },
    {
      "cell_type": "code",
      "metadata": {
        "colab": {
          "base_uri": "https://localhost:8080/"
        },
        "id": "2C1530fZgUYE",
        "outputId": "a2af5c09-9c0a-41c0-bc68-0f5bfbe5fd53"
      },
      "source": [
        "# 과대적합으로 새로운 모델 적용\r\n",
        "model = models.Sequential()\r\n",
        "model.add(layers.Dense(64, activation='relu', input_shape=(10000,)))\r\n",
        "model.add(layers.Dense(64, activation='relu'))\r\n",
        "model.add(layers.Dense(46, activation='softmax'))\r\n",
        "\r\n",
        "model.compile(optimizer='rmsprop',\r\n",
        "              loss='categorical_crossentropy',\r\n",
        "              metrics=['accuracy'])\r\n",
        "model.fit(partial_x_train,\r\n",
        "          partial_y_train,\r\n",
        "          epochs=9,\r\n",
        "          batch_size=512,\r\n",
        "          validation_data=(x_val, y_val))\r\n",
        "results = model.evaluate(x_test, one_hot_test_labels)"
      ],
      "execution_count": null,
      "outputs": [
        {
          "output_type": "stream",
          "text": [
            "Epoch 1/9\n",
            "16/16 [==============================] - 1s 47ms/step - loss: 2.6941 - accuracy: 0.5109 - val_loss: 1.8194 - val_accuracy: 0.6540\n",
            "Epoch 2/9\n",
            "16/16 [==============================] - 1s 36ms/step - loss: 1.4618 - accuracy: 0.7040 - val_loss: 1.3011 - val_accuracy: 0.7210\n",
            "Epoch 3/9\n",
            "16/16 [==============================] - 1s 37ms/step - loss: 1.0604 - accuracy: 0.7779 - val_loss: 1.1257 - val_accuracy: 0.7630\n",
            "Epoch 4/9\n",
            "16/16 [==============================] - 1s 37ms/step - loss: 0.8353 - accuracy: 0.8235 - val_loss: 1.0221 - val_accuracy: 0.7890\n",
            "Epoch 5/9\n",
            "16/16 [==============================] - 1s 36ms/step - loss: 0.6672 - accuracy: 0.8622 - val_loss: 0.9625 - val_accuracy: 0.7940\n",
            "Epoch 6/9\n",
            "16/16 [==============================] - 1s 36ms/step - loss: 0.5340 - accuracy: 0.8924 - val_loss: 0.9385 - val_accuracy: 0.8120\n",
            "Epoch 7/9\n",
            "16/16 [==============================] - 1s 36ms/step - loss: 0.4311 - accuracy: 0.9124 - val_loss: 0.8998 - val_accuracy: 0.8210\n",
            "Epoch 8/9\n",
            "16/16 [==============================] - 1s 36ms/step - loss: 0.3514 - accuracy: 0.9260 - val_loss: 0.9488 - val_accuracy: 0.7960\n",
            "Epoch 9/9\n",
            "16/16 [==============================] - 1s 36ms/step - loss: 0.2923 - accuracy: 0.9389 - val_loss: 0.9049 - val_accuracy: 0.8160\n",
            "71/71 [==============================] - 0s 2ms/step - loss: 0.9787 - accuracy: 0.7903\n"
          ],
          "name": "stdout"
        }
      ]
    },
    {
      "cell_type": "code",
      "metadata": {
        "colab": {
          "base_uri": "https://localhost:8080/"
        },
        "id": "l_9LU-0ugbGm",
        "outputId": "5980fd3f-a9ba-4ddd-9b21-80058a87ec95"
      },
      "source": [
        "# 5 결과\r\n",
        "results"
      ],
      "execution_count": null,
      "outputs": [
        {
          "output_type": "execute_result",
          "data": {
            "text/plain": [
              "[0.9787474870681763, 0.7902938723564148]"
            ]
          },
          "metadata": {
            "tags": []
          },
          "execution_count": 68
        }
      ]
    },
    {
      "cell_type": "markdown",
      "metadata": {
        "id": "3G2m-2-UgnoP"
      },
      "source": [
        "대략 78%의 정확도를 달성하였음."
      ]
    },
    {
      "cell_type": "code",
      "metadata": {
        "id": "xMCQIMQZgmNm"
      },
      "source": [
        "# 6 예측\r\n",
        "predictions = model.predict(x_test)"
      ],
      "execution_count": null,
      "outputs": []
    },
    {
      "cell_type": "markdown",
      "metadata": {
        "id": "i3IeQXruliaX"
      },
      "source": [
        ""
      ]
    }
  ]
}