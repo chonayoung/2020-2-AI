{
  "nbformat": 4,
  "nbformat_minor": 0,
  "metadata": {
    "colab": {
      "name": "03-tf-random.ipynb",
      "provenance": [],
      "collapsed_sections": [],
      "include_colab_link": true
    },
    "kernelspec": {
      "name": "python3",
      "display_name": "Python 3"
    }
  },
  "cells": [
    {
      "cell_type": "markdown",
      "metadata": {
        "id": "view-in-github",
        "colab_type": "text"
      },
      "source": [
        "<a href=\"https://colab.research.google.com/github/chonayoung/2020-2-AI/blob/main/code/03_tf_random.ipynb\" target=\"_parent\"><img src=\"https://colab.research.google.com/assets/colab-badge.svg\" alt=\"Open In Colab\"/></a>"
      ]
    },
    {
      "cell_type": "code",
      "metadata": {
        "id": "ezLoCFNbBHwG",
        "outputId": "962e0baa-ffff-4bed-d7a8-d17cdbee49a3",
        "colab": {
          "base_uri": "https://localhost:8080/",
          "height": 35
        }
      },
      "source": [
        "import tensorflow as tf\n",
        "tf.__version__"
      ],
      "execution_count": null,
      "outputs": [
        {
          "output_type": "execute_result",
          "data": {
            "application/vnd.google.colaboratory.intrinsic+json": {
              "type": "string"
            },
            "text/plain": [
              "'2.3.0'"
            ]
          },
          "metadata": {
            "tags": []
          },
          "execution_count": 2
        }
      ]
    },
    {
      "cell_type": "code",
      "metadata": {
        "id": "g8Tc_21QBVfq",
        "outputId": "be875043-0748-454a-8cf4-25a3d8688177",
        "colab": {
          "base_uri": "https://localhost:8080/",
          "height": 35
        }
      },
      "source": [
        "# 3.7 랜덤한 수 얻기 (균일 분포)\n",
        "rand = tf.random.uniform([1], 0, 1)\n",
        "print(rand)"
      ],
      "execution_count": null,
      "outputs": [
        {
          "output_type": "stream",
          "text": [
            "tf.Tensor([0.4641459], shape=(1,), dtype=float32)\n"
          ],
          "name": "stdout"
        }
      ]
    },
    {
      "cell_type": "code",
      "metadata": {
        "id": "8bWcaf6GBgmr",
        "outputId": "a0ff0cf5-4888-43ce-a6f0-0b3857d2e266",
        "colab": {
          "base_uri": "https://localhost:8080/",
          "height": 125
        }
      },
      "source": [
        "rand = tf.random.uniform([5, 4], 0, 1)\n",
        "print(rand)"
      ],
      "execution_count": null,
      "outputs": [
        {
          "output_type": "stream",
          "text": [
            "tf.Tensor(\n",
            "[[0.05406678 0.7386098  0.6080805  0.3821168 ]\n",
            " [0.03735507 0.5796846  0.857597   0.21524715]\n",
            " [0.71797884 0.37593758 0.59509635 0.82790697]\n",
            " [0.6059818  0.821656   0.08783746 0.79157746]\n",
            " [0.52639735 0.23277271 0.2822584  0.02506948]], shape=(5, 4), dtype=float32)\n"
          ],
          "name": "stdout"
        }
      ]
    },
    {
      "cell_type": "code",
      "metadata": {
        "id": "joGVFfnjBpP_",
        "outputId": "214329e3-5bec-4399-99ca-f2cd9e7b2844",
        "colab": {
          "base_uri": "https://localhost:8080/",
          "height": 71
        }
      },
      "source": [
        "rand = tf.random.uniform([1000], 0, 10)\n",
        "print(rand[:10])"
      ],
      "execution_count": null,
      "outputs": [
        {
          "output_type": "stream",
          "text": [
            "tf.Tensor(\n",
            "[5.893365   0.1990807  9.22357    3.724804   8.864108   8.683985\n",
            " 3.71122    9.637176   0.57065606 6.0144415 ], shape=(10,), dtype=float32)\n"
          ],
          "name": "stdout"
        }
      ]
    },
    {
      "cell_type": "code",
      "metadata": {
        "id": "FfeDdMKrBysy",
        "outputId": "7abfaca9-ccf4-489a-a66f-c017aa51519e",
        "colab": {
          "base_uri": "https://localhost:8080/",
          "height": 373
        }
      },
      "source": [
        "import matplotlib.pyplot as plt\n",
        "rand = tf.random.uniform([10000], 0, 50)\n",
        "plt.hist(rand, bins = 10)"
      ],
      "execution_count": null,
      "outputs": [
        {
          "output_type": "execute_result",
          "data": {
            "text/plain": [
              "(array([ 962.,  960., 1020.,  975., 1043., 1043., 1014.,  979.,  983.,\n",
              "        1021.]),\n",
              " array([7.1525574e-04, 4.9991250e+00, 9.9975348e+00, 1.4995945e+01,\n",
              "        1.9994354e+01, 2.4992764e+01, 2.9991175e+01, 3.4989586e+01,\n",
              "        3.9987995e+01, 4.4986404e+01, 4.9984814e+01], dtype=float32),\n",
              " <a list of 10 Patch objects>)"
            ]
          },
          "metadata": {
            "tags": []
          },
          "execution_count": 9
        },
        {
          "output_type": "display_data",
          "data": {
            "image/png": "[encoded data removed]",
            "text/plain": [
              "<Figure size 432x288 with 1 Axes>"
            ]
          },
          "metadata": {
            "tags": [],
            "needs_background": "light"
          }
        }
      ]
    },
    {
      "cell_type": "code",
      "metadata": {
        "id": "F1ImbhUFCA3T",
        "outputId": "a8e72f19-aadc-4bfb-f767-4d351f58a1ba",
        "colab": {
          "base_uri": "https://localhost:8080/",
          "height": 35
        }
      },
      "source": [
        "# 3.9 랜덤한 수 여러 개 얻기 (정규 분포)\n",
        "rnad = tf.random.normal([4], 0, 1)\n",
        "print(rand)"
      ],
      "execution_count": null,
      "outputs": [
        {
          "output_type": "stream",
          "text": [
            "tf.Tensor([23.889154 48.30073  19.684898 ... 44.974716 29.860067  9.555471], shape=(10000,), dtype=float32)\n"
          ],
          "name": "stdout"
        }
      ]
    },
    {
      "cell_type": "code",
      "metadata": {
        "id": "o3v_QNULCMPM",
        "outputId": "769cacbe-8896-4ff8-9d8c-c7aed16c94e5",
        "colab": {
          "base_uri": "https://localhost:8080/",
          "height": 931
        }
      },
      "source": [
        "import matplotlib.pyplot as plt\n",
        "rand = tf.random.uniform([10000], 0, 1)\n",
        "plt.hist(rand, bins = 100)"
      ],
      "execution_count": null,
      "outputs": [
        {
          "output_type": "execute_result",
          "data": {
            "text/plain": [
              "(array([ 82.,  98., 101., 108., 110., 102., 106., 106.,  89.,  77., 113.,\n",
              "         93., 124.,  89., 102., 100.,  84.,  96., 102.,  84.,  93.,  86.,\n",
              "         88.,  99.,  92.,  89.,  90.,  86., 115.,  95.,  87., 111.,  97.,\n",
              "        110., 105., 129.,  85., 102., 100., 108., 121.,  87., 101.,  82.,\n",
              "         82.,  94., 104.,  91.,  83.,  98., 103.,  96., 107.,  97., 102.,\n",
              "         86., 103.,  88., 103.,  89., 102., 104.,  99., 103., 104.,  89.,\n",
              "        111.,  99.,  96., 104., 113., 120., 103.,  82., 106.,  94.,  89.,\n",
              "        101., 103., 115., 125., 106.,  96.,  88.,  96.,  80., 114., 110.,\n",
              "        102., 115., 100., 115., 118.,  98., 108., 119., 108., 110.,  93.,\n",
              "        112.]),\n",
              " array([1.12295151e-04, 1.01100802e-02, 2.01078653e-02, 3.01056504e-02,\n",
              "        4.01034355e-02, 5.01012206e-02, 6.00990057e-02, 7.00967908e-02,\n",
              "        8.00945759e-02, 9.00923610e-02, 1.00090146e-01, 1.10087931e-01,\n",
              "        1.20085716e-01, 1.30083501e-01, 1.40081286e-01, 1.50079072e-01,\n",
              "        1.60076857e-01, 1.70074642e-01, 1.80072427e-01, 1.90070212e-01,\n",
              "        2.00067997e-01, 2.10065782e-01, 2.20063567e-01, 2.30061352e-01,\n",
              "        2.40059137e-01, 2.50056922e-01, 2.60054708e-01, 2.70052493e-01,\n",
              "        2.80050278e-01, 2.90048063e-01, 3.00045848e-01, 3.10043633e-01,\n",
              "        3.20041418e-01, 3.30039203e-01, 3.40036988e-01, 3.50034773e-01,\n",
              "        3.60032558e-01, 3.70030344e-01, 3.80028129e-01, 3.90025914e-01,\n",
              "        4.00023699e-01, 4.10021484e-01, 4.20019269e-01, 4.30017054e-01,\n",
              "        4.40014839e-01, 4.50012624e-01, 4.60010409e-01, 4.70008194e-01,\n",
              "        4.80005980e-01, 4.90003765e-01, 5.00001550e-01, 5.09999335e-01,\n",
              "        5.19997120e-01, 5.29994905e-01, 5.39992690e-01, 5.49990475e-01,\n",
              "        5.59988260e-01, 5.69986045e-01, 5.79983830e-01, 5.89981616e-01,\n",
              "        5.99979401e-01, 6.09977186e-01, 6.19974971e-01, 6.29972756e-01,\n",
              "        6.39970541e-01, 6.49968326e-01, 6.59966111e-01, 6.69963896e-01,\n",
              "        6.79961681e-01, 6.89959466e-01, 6.99957252e-01, 7.09955037e-01,\n",
              "        7.19952822e-01, 7.29950607e-01, 7.39948392e-01, 7.49946177e-01,\n",
              "        7.59943962e-01, 7.69941747e-01, 7.79939532e-01, 7.89937317e-01,\n",
              "        7.99935102e-01, 8.09932888e-01, 8.19930673e-01, 8.29928458e-01,\n",
              "        8.39926243e-01, 8.49924028e-01, 8.59921813e-01, 8.69919598e-01,\n",
              "        8.79917383e-01, 8.89915168e-01, 8.99912953e-01, 9.09910738e-01,\n",
              "        9.19908524e-01, 9.29906309e-01, 9.39904094e-01, 9.49901879e-01,\n",
              "        9.59899664e-01, 9.69897449e-01, 9.79895234e-01, 9.89893019e-01,\n",
              "        9.99890804e-01], dtype=float32),\n",
              " <a list of 100 Patch objects>)"
            ]
          },
          "metadata": {
            "tags": []
          },
          "execution_count": 11
        },
        {
          "output_type": "display_data",
          "data": {
            "image/png": "[encoded data removed]",
            "text/plain": [
              "<Figure size 432x288 with 1 Axes>"
            ]
          },
          "metadata": {
            "tags": [],
            "needs_background": "light"
          }
        }
      ]
    },
    {
      "cell_type": "code",
      "metadata": {
        "id": "WbRUHWqNCd4E",
        "outputId": "10c4d147-6cda-4047-c243-949be1ab7827",
        "colab": {
          "base_uri": "https://localhost:8080/",
          "height": 625
        }
      },
      "source": [
        "import matplotlib.pyplot as plt\n",
        "rand1 = tf.random.normal([100000], 0, 1)\n",
        "rand2 = tf.random.uniform([200000], 0, 1)\n",
        "plt.hist(rand1, bins = 100)\n",
        "plt.hist(rand2, bins = 50)"
      ],
      "execution_count": null,
      "outputs": [
        {
          "output_type": "execute_result",
          "data": {
            "text/plain": [
              "(array([4091., 3966., 3981., 4054., 4032., 3918., 3973., 3963., 3872.,\n",
              "        3993., 4036., 4014., 3978., 4036., 4014., 4016., 4053., 3937.,\n",
              "        4015., 4014., 4006., 4052., 3988., 3997., 3992., 3935., 3965.,\n",
              "        4030., 3980., 3974., 4046., 3950., 4035., 3892., 4086., 4033.,\n",
              "        4102., 3992., 4031., 4090., 4144., 4031., 4009., 3928., 3996.,\n",
              "        4024., 3857., 3825., 4008., 4046.]),\n",
              " array([3.69548798e-06, 2.00035572e-02, 4.00034189e-02, 6.00032806e-02,\n",
              "        8.00031424e-02, 1.00003004e-01, 1.20002866e-01, 1.40002728e-01,\n",
              "        1.60002589e-01, 1.80002451e-01, 2.00002313e-01, 2.20002174e-01,\n",
              "        2.40002036e-01, 2.60001898e-01, 2.80001760e-01, 3.00001621e-01,\n",
              "        3.20001483e-01, 3.40001345e-01, 3.60001206e-01, 3.80001068e-01,\n",
              "        4.00000930e-01, 4.20000792e-01, 4.40000653e-01, 4.60000515e-01,\n",
              "        4.80000377e-01, 5.00000238e-01, 5.20000100e-01, 5.39999962e-01,\n",
              "        5.59999824e-01, 5.79999685e-01, 5.99999547e-01, 6.19999409e-01,\n",
              "        6.39999270e-01, 6.59999132e-01, 6.79998994e-01, 6.99998856e-01,\n",
              "        7.19998717e-01, 7.39998579e-01, 7.59998441e-01, 7.79998302e-01,\n",
              "        7.99998164e-01, 8.19998026e-01, 8.39997888e-01, 8.59997749e-01,\n",
              "        8.79997611e-01, 8.99997473e-01, 9.19997334e-01, 9.39997196e-01,\n",
              "        9.59997058e-01, 9.79996920e-01, 9.99996781e-01], dtype=float32),\n",
              " <a list of 50 Patch objects>)"
            ]
          },
          "metadata": {
            "tags": []
          },
          "execution_count": 12
        },
        {
          "output_type": "display_data",
          "data": {
            "image/png": "[encoded data removed]",
            "text/plain": [
              "<Figure size 432x288 with 1 Axes>"
            ]
          },
          "metadata": {
            "tags": [],
            "needs_background": "light"
          }
        }
      ]
    },
    {
      "cell_type": "code",
      "metadata": {
        "id": "QjIf_9T5CuXh",
        "outputId": "8c072ae0-f5dd-4875-d4c3-3033c56853b3",
        "colab": {
          "base_uri": "https://localhost:8080/",
          "height": 1000
        }
      },
      "source": [
        "import matplotlib.pyplot as plt\n",
        "rand1 = tf.random.normal([1000], 0, 1)\n",
        "rand2 = tf.random.uniform([2000], 0, 1)\n",
        "\n",
        "plt.rcParams[\"figure.figsize\"] = (12,6)\n",
        "fig, axes = plt.subplots(1, 2, sharex=True, sharey=True)\n",
        "axes[0].hist(rand1, bins = 100)\n",
        "axes[1].hist(rand2, bins = 100)"
      ],
      "execution_count": null,
      "outputs": [
        {
          "output_type": "execute_result",
          "data": {
            "text/plain": [
              "(array([18., 26., 24., 17., 20., 13., 20., 13., 12., 17., 16., 24., 23.,\n",
              "        26., 15., 19., 22., 18., 15., 17., 17., 24., 21., 16., 15., 24.,\n",
              "        13., 15., 19., 15., 15., 14., 19., 12., 15., 21., 22., 28., 21.,\n",
              "        25., 20., 14., 24., 18., 10., 17., 27., 25., 24., 19., 25., 29.,\n",
              "        20., 18., 19., 25., 19., 23., 23., 17., 18., 17., 17., 15., 19.,\n",
              "        22., 16., 15., 21., 23., 22., 22., 21., 26., 19., 20., 14., 16.,\n",
              "        22., 21., 26., 22., 26., 20., 28., 13., 27., 28., 18., 22., 23.,\n",
              "        23., 14., 26., 19., 23., 16., 25., 29., 24.]),\n",
              " array([4.7171116e-04, 1.0466602e-02, 2.0461492e-02, 3.0456383e-02,\n",
              "        4.0451273e-02, 5.0446164e-02, 6.0441054e-02, 7.0435949e-02,\n",
              "        8.0430835e-02, 9.0425730e-02, 1.0042062e-01, 1.1041551e-01,\n",
              "        1.2041040e-01, 1.3040529e-01, 1.4040019e-01, 1.5039507e-01,\n",
              "        1.6038996e-01, 1.7038485e-01, 1.8037975e-01, 1.9037463e-01,\n",
              "        2.0036952e-01, 2.1036442e-01, 2.2035931e-01, 2.3035419e-01,\n",
              "        2.4034908e-01, 2.5034398e-01, 2.6033887e-01, 2.7033377e-01,\n",
              "        2.8032866e-01, 2.9032356e-01, 3.0031842e-01, 3.1031331e-01,\n",
              "        3.2030821e-01, 3.3030310e-01, 3.4029800e-01, 3.5029289e-01,\n",
              "        3.6028779e-01, 3.7028268e-01, 3.8027754e-01, 3.9027244e-01,\n",
              "        4.0026733e-01, 4.1026223e-01, 4.2025712e-01, 4.3025202e-01,\n",
              "        4.4024691e-01, 4.5024180e-01, 4.6023667e-01, 4.7023156e-01,\n",
              "        4.8022646e-01, 4.9022135e-01, 5.0021625e-01, 5.1021111e-01,\n",
              "        5.2020603e-01, 5.3020090e-01, 5.4019582e-01, 5.5019069e-01,\n",
              "        5.6018561e-01, 5.7018048e-01, 5.8017540e-01, 5.9017026e-01,\n",
              "        6.0016513e-01, 6.1016005e-01, 6.2015492e-01, 6.3014984e-01,\n",
              "        6.4014471e-01, 6.5013963e-01, 6.6013449e-01, 6.7012936e-01,\n",
              "        6.8012428e-01, 6.9011915e-01, 7.0011407e-01, 7.1010894e-01,\n",
              "        7.2010386e-01, 7.3009872e-01, 7.4009365e-01, 7.5008851e-01,\n",
              "        7.6008338e-01, 7.7007830e-01, 7.8007317e-01, 7.9006809e-01,\n",
              "        8.0006295e-01, 8.1005788e-01, 8.2005274e-01, 8.3004767e-01,\n",
              "        8.4004253e-01, 8.5003740e-01, 8.6003232e-01, 8.7002718e-01,\n",
              "        8.8002211e-01, 8.9001697e-01, 9.0001190e-01, 9.1000676e-01,\n",
              "        9.2000163e-01, 9.2999655e-01, 9.3999141e-01, 9.4998634e-01,\n",
              "        9.5998120e-01, 9.6997613e-01, 9.7997099e-01, 9.8996592e-01,\n",
              "        9.9996078e-01], dtype=float32),\n",
              " <a list of 100 Patch objects>)"
            ]
          },
          "metadata": {
            "tags": []
          },
          "execution_count": 14
        },
        {
          "output_type": "display_data",
          "data": {
            "image/png": "[encoded data removed]",
            "text/plain": [
              "<Figure size 864x432 with 2 Axes>"
            ]
          },
          "metadata": {
            "tags": [],
            "needs_background": "light"
          }
        }
      ]
    },
    {
      "cell_type": "code",
      "metadata": {
        "id": "SlT3D06CDG4w",
        "outputId": "0cdc4cc2-3b3f-415e-f868-163965cc9421",
        "colab": {
          "base_uri": "https://localhost:8080/",
          "height": 53
        }
      },
      "source": [
        "import numpy as np\n",
        "a = np.arange(10)\n",
        "print(a)\n",
        "tf.random.shuffle(a)"
      ],
      "execution_count": null,
      "outputs": [
        {
          "output_type": "stream",
          "text": [
            "[0 1 2 3 4 5 6 7 8 9]\n"
          ],
          "name": "stdout"
        },
        {
          "output_type": "execute_result",
          "data": {
            "text/plain": [
              "<tf.Tensor: shape=(10,), dtype=int64, numpy=array([1, 5, 8, 2, 0, 7, 9, 4, 6, 3])>"
            ]
          },
          "metadata": {
            "tags": []
          },
          "execution_count": 15
        }
      ]
    },
    {
      "cell_type": "code",
      "metadata": {
        "id": "C1DneRdSDNXg",
        "outputId": "fc35a137-02c0-402c-aeec-a1cc8990b5e9",
        "colab": {
          "base_uri": "https://localhost:8080/",
          "height": 89
        }
      },
      "source": [
        "import numpy as np\n",
        "a = np.arange(20).reshape(4, 5)\n",
        "a"
      ],
      "execution_count": null,
      "outputs": [
        {
          "output_type": "execute_result",
          "data": {
            "text/plain": [
              "array([[ 0,  1,  2,  3,  4],\n",
              "       [ 5,  6,  7,  8,  9],\n",
              "       [10, 11, 12, 13, 14],\n",
              "       [15, 16, 17, 18, 19]])"
            ]
          },
          "metadata": {
            "tags": []
          },
          "execution_count": 16
        }
      ]
    },
    {
      "cell_type": "code",
      "metadata": {
        "id": "Gt6oB7p8DV3i",
        "outputId": "078ba8f1-ddeb-494b-8482-34ab8adffbef",
        "colab": {
          "base_uri": "https://localhost:8080/",
          "height": 107
        }
      },
      "source": [
        "tf.random.shuffle(a, )"
      ],
      "execution_count": null,
      "outputs": [
        {
          "output_type": "execute_result",
          "data": {
            "text/plain": [
              "<tf.Tensor: shape=(4, 5), dtype=int64, numpy=\n",
              "array([[ 5,  6,  7,  8,  9],\n",
              "       [15, 16, 17, 18, 19],\n",
              "       [ 0,  1,  2,  3,  4],\n",
              "       [10, 11, 12, 13, 14]])>"
            ]
          },
          "metadata": {
            "tags": []
          },
          "execution_count": 17
        }
      ]
    }
  ]
}